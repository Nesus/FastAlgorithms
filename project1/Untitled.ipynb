{
 "cells": [
  {
   "cell_type": "code",
   "execution_count": 1,
   "metadata": {},
   "outputs": [],
   "source": [
    "from lib import *\n",
    "import time\n",
    "import matplotlib.pyplot as plt\n",
    "import numpy as np\n",
    "\n",
    "%matplotlib inline"
   ]
  },
  {
   "cell_type": "code",
   "execution_count": 2,
   "metadata": {
    "collapsed": true
   },
   "outputs": [],
   "source": [
    "def flatten(b):\n",
    "    m = len(b)\n",
    "    n_x,n_y = b.shape\n",
    "    b_flatten = np.zeros(n_x*n_y)\n",
    "    for i in range(n_x):\n",
    "        for j in range(n_y):\n",
    "            index = linearize(i,j,m)\n",
    "\n",
    "            b_flatten[index] =b[i,j]\n",
    "\n",
    "            \n",
    "    return b_flatten"
   ]
  },
  {
   "cell_type": "code",
   "execution_count": 3,
   "metadata": {
    "collapsed": true
   },
   "outputs": [],
   "source": [
    "def multigrid_iter2(b, h = None,v0=1, v1 = 2, v2=2, fullweight=True, plot=False, ax=None, fig=None):\n",
    "    m = len(b)\n",
    "    if not h:\n",
    "        h = 1./(m-1)\n",
    "    \n",
    "    if (m-1)/2+1 == calculate_coarser(m):\n",
    "        A = create_system(m,h=h)\n",
    "        shapeF = b.shape\n",
    "        b = flatten(b)\n",
    "        return np.linalg.solve(A,b).reshape(shapeF), 0\n",
    "        \n",
    "        \n",
    "    else:\n",
    "        bC = restrict(b, fullweight=fullweight)\n",
    "        xC,opsC = multigrid_iter2(bC,h=2*h,v0=v0,v1=v1,v2=v2,fullweight=fullweight,plot=plot,ax=ax,fig=fig)\n",
    "        \n",
    "        \n",
    "        x = interpolate(xC)\n",
    "        for i in range(v0):\n",
    "            x,ops = vcycle_iteration(x, b, h=h , v1=v1,v2=v2,fullweight=fullweight,plot=plot,ax=ax,fig=fig)\n",
    "        return x,ops+opsC/4."
   ]
  },
  {
   "cell_type": "code",
   "execution_count": 4,
   "metadata": {
    "scrolled": false
   },
   "outputs": [],
   "source": [
    "def full_multigrid2(m,v0=1,v1=2,v2=2, plot=False,rest_type=None, atol=1e-3, random_seed= -1, demo=False):\n",
    "    if m%2==0:\n",
    "        raise Exception(\"This implementation works only with odd grids\")\n",
    "    \n",
    "    if rest_type:\n",
    "        if rest_type == \"injection\":\n",
    "            fullweight = False\n",
    "        elif rest_type ==\"full_weight\":\n",
    "            fullweight = True\n",
    "        else:\n",
    "            raise Exception(\"Restriction not supported\")\n",
    "    else:\n",
    "        fullweight = True\n",
    "    \n",
    "    if plot:\n",
    "        fig,ax = plt.subplots(1,1)\n",
    "    else:\n",
    "        fig,ax = (None,None)\n",
    "    \n",
    "    coarser = calculate_coarser(m)\n",
    "    \n",
    "    if coarser > 10:\n",
    "        raise Exception(\"Coarser grid too big for direct solver {}x{}\".format(coarser,coarser))\n",
    "\n",
    "    h = 1./(m-1)\n",
    "    \n",
    "    x = np.linspace(0,1,m+2)[1:-1]\n",
    "    y = np.linspace(0,1,m+2)[1:-1]    \n",
    "    \n",
    "    f = create_right(x,y)\n",
    "    \n",
    "    if random_seed > 0:\n",
    "        np.random.seed(random_seed)\n",
    "        v = np.random.rand(m,m)\n",
    "    else:\n",
    "        v = np.zeros((m,m))\n",
    " \n",
    "    r = np.linalg.norm(calculate_residue(v,f,h))\n",
    "    ops_total = 0\n",
    "    v,ops = multigrid_iter2(f,h = h, v0 = v0, v1=v1, v2=v2, fullweight=fullweight, plot=plot, ax=ax, fig=fig)\n",
    "    r = np.linalg.norm(calculate_residue(v,f,h))\n",
    "    ops_total += ops\n",
    "\n",
    "    return v,ops_total"
   ]
  },
  {
   "cell_type": "code",
   "execution_count": 5,
   "metadata": {},
   "outputs": [
    {
     "ename": "KeyboardInterrupt",
     "evalue": "",
     "output_type": "error",
     "traceback": [
      "\u001b[1;31m---------------------------------------------------------------------------\u001b[0m",
      "\u001b[1;31mKeyboardInterrupt\u001b[0m                         Traceback (most recent call last)",
      "\u001b[1;32m<ipython-input-5-b7248fd8fcd9>\u001b[0m in \u001b[0;36m<module>\u001b[1;34m()\u001b[0m\n\u001b[0;32m     10\u001b[0m     \u001b[1;32mfor\u001b[0m \u001b[0mj\u001b[0m \u001b[1;32min\u001b[0m \u001b[0mrange\u001b[0m\u001b[1;33m(\u001b[0m\u001b[1;36m1\u001b[0m\u001b[1;33m,\u001b[0m\u001b[1;36m11\u001b[0m\u001b[1;33m)\u001b[0m\u001b[1;33m:\u001b[0m\u001b[1;33m\u001b[0m\u001b[0m\n\u001b[0;32m     11\u001b[0m         \u001b[1;32mfor\u001b[0m \u001b[0mk\u001b[0m \u001b[1;32min\u001b[0m \u001b[0mrange\u001b[0m\u001b[1;33m(\u001b[0m\u001b[1;36m1\u001b[0m\u001b[1;33m,\u001b[0m\u001b[1;36m11\u001b[0m\u001b[1;33m)\u001b[0m\u001b[1;33m:\u001b[0m\u001b[1;33m\u001b[0m\u001b[0m\n\u001b[1;32m---> 12\u001b[1;33m             \u001b[0mv\u001b[0m\u001b[1;33m,\u001b[0m\u001b[0mops\u001b[0m \u001b[1;33m=\u001b[0m \u001b[0mfull_multigrid2\u001b[0m\u001b[1;33m(\u001b[0m\u001b[1;36m65\u001b[0m\u001b[1;33m,\u001b[0m\u001b[0mv0\u001b[0m\u001b[1;33m=\u001b[0m\u001b[0mi\u001b[0m\u001b[1;33m,\u001b[0m\u001b[0mv1\u001b[0m\u001b[1;33m=\u001b[0m\u001b[0mj\u001b[0m\u001b[1;33m,\u001b[0m\u001b[0mv2\u001b[0m\u001b[1;33m=\u001b[0m\u001b[0mk\u001b[0m\u001b[1;33m,\u001b[0m\u001b[0mrest_type\u001b[0m\u001b[1;33m=\u001b[0m\u001b[1;34m\"injection\"\u001b[0m\u001b[1;33m)\u001b[0m\u001b[1;33m\u001b[0m\u001b[0m\n\u001b[0m\u001b[0;32m     13\u001b[0m \u001b[1;33m\u001b[0m\u001b[0m\n\u001b[0;32m     14\u001b[0m             \u001b[0merror\u001b[0m \u001b[1;33m=\u001b[0m \u001b[0mnp\u001b[0m\u001b[1;33m.\u001b[0m\u001b[0mlinalg\u001b[0m\u001b[1;33m.\u001b[0m\u001b[0mnorm\u001b[0m\u001b[1;33m(\u001b[0m\u001b[0mu\u001b[0m\u001b[1;33m-\u001b[0m\u001b[0mv\u001b[0m\u001b[1;33m)\u001b[0m\u001b[1;33m\u001b[0m\u001b[0m\n",
      "\u001b[1;32m<ipython-input-4-2e8b271666f0>\u001b[0m in \u001b[0;36mfull_multigrid2\u001b[1;34m(m, v0, v1, v2, plot, rest_type, atol, random_seed, demo)\u001b[0m\n\u001b[0;32m     38\u001b[0m     \u001b[0mr\u001b[0m \u001b[1;33m=\u001b[0m \u001b[0mnp\u001b[0m\u001b[1;33m.\u001b[0m\u001b[0mlinalg\u001b[0m\u001b[1;33m.\u001b[0m\u001b[0mnorm\u001b[0m\u001b[1;33m(\u001b[0m\u001b[0mcalculate_residue\u001b[0m\u001b[1;33m(\u001b[0m\u001b[0mv\u001b[0m\u001b[1;33m,\u001b[0m\u001b[0mf\u001b[0m\u001b[1;33m,\u001b[0m\u001b[0mh\u001b[0m\u001b[1;33m)\u001b[0m\u001b[1;33m)\u001b[0m\u001b[1;33m\u001b[0m\u001b[0m\n\u001b[0;32m     39\u001b[0m     \u001b[0mops_total\u001b[0m \u001b[1;33m=\u001b[0m \u001b[1;36m0\u001b[0m\u001b[1;33m\u001b[0m\u001b[0m\n\u001b[1;32m---> 40\u001b[1;33m     \u001b[0mv\u001b[0m\u001b[1;33m,\u001b[0m\u001b[0mops\u001b[0m \u001b[1;33m=\u001b[0m \u001b[0mmultigrid_iter2\u001b[0m\u001b[1;33m(\u001b[0m\u001b[0mf\u001b[0m\u001b[1;33m,\u001b[0m\u001b[0mh\u001b[0m \u001b[1;33m=\u001b[0m \u001b[0mh\u001b[0m\u001b[1;33m,\u001b[0m \u001b[0mv0\u001b[0m \u001b[1;33m=\u001b[0m \u001b[0mv0\u001b[0m\u001b[1;33m,\u001b[0m \u001b[0mv1\u001b[0m\u001b[1;33m=\u001b[0m\u001b[0mv1\u001b[0m\u001b[1;33m,\u001b[0m \u001b[0mv2\u001b[0m\u001b[1;33m=\u001b[0m\u001b[0mv2\u001b[0m\u001b[1;33m,\u001b[0m \u001b[0mfullweight\u001b[0m\u001b[1;33m=\u001b[0m\u001b[0mfullweight\u001b[0m\u001b[1;33m,\u001b[0m \u001b[0mplot\u001b[0m\u001b[1;33m=\u001b[0m\u001b[0mplot\u001b[0m\u001b[1;33m,\u001b[0m \u001b[0max\u001b[0m\u001b[1;33m=\u001b[0m\u001b[0max\u001b[0m\u001b[1;33m,\u001b[0m \u001b[0mfig\u001b[0m\u001b[1;33m=\u001b[0m\u001b[0mfig\u001b[0m\u001b[1;33m)\u001b[0m\u001b[1;33m\u001b[0m\u001b[0m\n\u001b[0m\u001b[0;32m     41\u001b[0m     \u001b[0mr\u001b[0m \u001b[1;33m=\u001b[0m \u001b[0mnp\u001b[0m\u001b[1;33m.\u001b[0m\u001b[0mlinalg\u001b[0m\u001b[1;33m.\u001b[0m\u001b[0mnorm\u001b[0m\u001b[1;33m(\u001b[0m\u001b[0mcalculate_residue\u001b[0m\u001b[1;33m(\u001b[0m\u001b[0mv\u001b[0m\u001b[1;33m,\u001b[0m\u001b[0mf\u001b[0m\u001b[1;33m,\u001b[0m\u001b[0mh\u001b[0m\u001b[1;33m)\u001b[0m\u001b[1;33m)\u001b[0m\u001b[1;33m\u001b[0m\u001b[0m\n\u001b[0;32m     42\u001b[0m     \u001b[0mops_total\u001b[0m \u001b[1;33m+=\u001b[0m \u001b[0mops\u001b[0m\u001b[1;33m\u001b[0m\u001b[0m\n",
      "\u001b[1;32m<ipython-input-3-27a201a360ea>\u001b[0m in \u001b[0;36mmultigrid_iter2\u001b[1;34m(b, h, v0, v1, v2, fullweight, plot, ax, fig)\u001b[0m\n\u001b[0;32m     18\u001b[0m         \u001b[0mx\u001b[0m \u001b[1;33m=\u001b[0m \u001b[0minterpolate\u001b[0m\u001b[1;33m(\u001b[0m\u001b[0mxC\u001b[0m\u001b[1;33m)\u001b[0m\u001b[1;33m\u001b[0m\u001b[0m\n\u001b[0;32m     19\u001b[0m         \u001b[1;32mfor\u001b[0m \u001b[0mi\u001b[0m \u001b[1;32min\u001b[0m \u001b[0mrange\u001b[0m\u001b[1;33m(\u001b[0m\u001b[0mv0\u001b[0m\u001b[1;33m)\u001b[0m\u001b[1;33m:\u001b[0m\u001b[1;33m\u001b[0m\u001b[0m\n\u001b[1;32m---> 20\u001b[1;33m             \u001b[0mx\u001b[0m\u001b[1;33m,\u001b[0m\u001b[0mops\u001b[0m \u001b[1;33m=\u001b[0m \u001b[0mvcycle_iteration\u001b[0m\u001b[1;33m(\u001b[0m\u001b[0mx\u001b[0m\u001b[1;33m,\u001b[0m \u001b[0mb\u001b[0m\u001b[1;33m,\u001b[0m \u001b[0mh\u001b[0m\u001b[1;33m=\u001b[0m\u001b[0mh\u001b[0m \u001b[1;33m,\u001b[0m \u001b[0mv1\u001b[0m\u001b[1;33m=\u001b[0m\u001b[0mv1\u001b[0m\u001b[1;33m,\u001b[0m\u001b[0mv2\u001b[0m\u001b[1;33m=\u001b[0m\u001b[0mv2\u001b[0m\u001b[1;33m,\u001b[0m\u001b[0mfullweight\u001b[0m\u001b[1;33m=\u001b[0m\u001b[0mfullweight\u001b[0m\u001b[1;33m,\u001b[0m\u001b[0mplot\u001b[0m\u001b[1;33m=\u001b[0m\u001b[0mplot\u001b[0m\u001b[1;33m,\u001b[0m\u001b[0max\u001b[0m\u001b[1;33m=\u001b[0m\u001b[0max\u001b[0m\u001b[1;33m,\u001b[0m\u001b[0mfig\u001b[0m\u001b[1;33m=\u001b[0m\u001b[0mfig\u001b[0m\u001b[1;33m)\u001b[0m\u001b[1;33m\u001b[0m\u001b[0m\n\u001b[0m\u001b[0;32m     21\u001b[0m         \u001b[1;32mreturn\u001b[0m \u001b[0mx\u001b[0m\u001b[1;33m,\u001b[0m\u001b[0mops\u001b[0m\u001b[1;33m+\u001b[0m\u001b[0mopsC\u001b[0m\u001b[1;33m/\u001b[0m\u001b[1;36m4.\u001b[0m\u001b[1;33m\u001b[0m\u001b[0m\n",
      "\u001b[1;32m/home/tronco/FastAlgorithms/lib.py\u001b[0m in \u001b[0;36mvcycle_iteration\u001b[1;34m(x, b, h, v1, v2, fullweight, plot, ax, fig)\u001b[0m\n\u001b[0;32m    413\u001b[0m         \u001b[1;31m#Calculate Ae=r in coarser grid\u001b[0m\u001b[1;33m\u001b[0m\u001b[1;33m\u001b[0m\u001b[0m\n\u001b[0;32m    414\u001b[0m         \u001b[0meC\u001b[0m \u001b[1;33m=\u001b[0m \u001b[0mnp\u001b[0m\u001b[1;33m.\u001b[0m\u001b[0mzeros_like\u001b[0m\u001b[1;33m(\u001b[0m\u001b[0mresidC\u001b[0m\u001b[1;33m)\u001b[0m\u001b[1;33m\u001b[0m\u001b[0m\n\u001b[1;32m--> 415\u001b[1;33m         \u001b[0meC\u001b[0m\u001b[1;33m,\u001b[0m \u001b[0miter_ops\u001b[0m \u001b[1;33m=\u001b[0m \u001b[0mvcycle_iteration\u001b[0m\u001b[1;33m(\u001b[0m\u001b[0meC\u001b[0m\u001b[1;33m,\u001b[0m\u001b[0mresidC\u001b[0m\u001b[1;33m,\u001b[0m\u001b[0mh\u001b[0m \u001b[1;33m=\u001b[0m \u001b[1;36m2\u001b[0m\u001b[1;33m*\u001b[0m\u001b[0mh\u001b[0m\u001b[1;33m,\u001b[0m \u001b[0mv1\u001b[0m \u001b[1;33m=\u001b[0m \u001b[0mv1\u001b[0m\u001b[1;33m,\u001b[0m \u001b[0mv2\u001b[0m\u001b[1;33m=\u001b[0m\u001b[0mv2\u001b[0m\u001b[1;33m,\u001b[0m \u001b[0mfullweight\u001b[0m\u001b[1;33m=\u001b[0m\u001b[0mfullweight\u001b[0m\u001b[1;33m,\u001b[0m\u001b[0mplot\u001b[0m\u001b[1;33m=\u001b[0m\u001b[0mplot\u001b[0m\u001b[1;33m,\u001b[0m \u001b[0max\u001b[0m\u001b[1;33m=\u001b[0m\u001b[0max\u001b[0m\u001b[1;33m,\u001b[0m \u001b[0mfig\u001b[0m\u001b[1;33m=\u001b[0m\u001b[0mfig\u001b[0m\u001b[1;33m)\u001b[0m\u001b[1;33m\u001b[0m\u001b[0m\n\u001b[0m\u001b[0;32m    416\u001b[0m \u001b[1;33m\u001b[0m\u001b[0m\n\u001b[0;32m    417\u001b[0m         \u001b[0miter_ops\u001b[0m \u001b[1;33m/=\u001b[0m \u001b[1;36m4.\u001b[0m\u001b[1;33m\u001b[0m\u001b[0m\n",
      "\u001b[1;32m/home/tronco/FastAlgorithms/lib.py\u001b[0m in \u001b[0;36mvcycle_iteration\u001b[1;34m(x, b, h, v1, v2, fullweight, plot, ax, fig)\u001b[0m\n\u001b[0;32m    413\u001b[0m         \u001b[1;31m#Calculate Ae=r in coarser grid\u001b[0m\u001b[1;33m\u001b[0m\u001b[1;33m\u001b[0m\u001b[0m\n\u001b[0;32m    414\u001b[0m         \u001b[0meC\u001b[0m \u001b[1;33m=\u001b[0m \u001b[0mnp\u001b[0m\u001b[1;33m.\u001b[0m\u001b[0mzeros_like\u001b[0m\u001b[1;33m(\u001b[0m\u001b[0mresidC\u001b[0m\u001b[1;33m)\u001b[0m\u001b[1;33m\u001b[0m\u001b[0m\n\u001b[1;32m--> 415\u001b[1;33m         \u001b[0meC\u001b[0m\u001b[1;33m,\u001b[0m \u001b[0miter_ops\u001b[0m \u001b[1;33m=\u001b[0m \u001b[0mvcycle_iteration\u001b[0m\u001b[1;33m(\u001b[0m\u001b[0meC\u001b[0m\u001b[1;33m,\u001b[0m\u001b[0mresidC\u001b[0m\u001b[1;33m,\u001b[0m\u001b[0mh\u001b[0m \u001b[1;33m=\u001b[0m \u001b[1;36m2\u001b[0m\u001b[1;33m*\u001b[0m\u001b[0mh\u001b[0m\u001b[1;33m,\u001b[0m \u001b[0mv1\u001b[0m \u001b[1;33m=\u001b[0m \u001b[0mv1\u001b[0m\u001b[1;33m,\u001b[0m \u001b[0mv2\u001b[0m\u001b[1;33m=\u001b[0m\u001b[0mv2\u001b[0m\u001b[1;33m,\u001b[0m \u001b[0mfullweight\u001b[0m\u001b[1;33m=\u001b[0m\u001b[0mfullweight\u001b[0m\u001b[1;33m,\u001b[0m\u001b[0mplot\u001b[0m\u001b[1;33m=\u001b[0m\u001b[0mplot\u001b[0m\u001b[1;33m,\u001b[0m \u001b[0max\u001b[0m\u001b[1;33m=\u001b[0m\u001b[0max\u001b[0m\u001b[1;33m,\u001b[0m \u001b[0mfig\u001b[0m\u001b[1;33m=\u001b[0m\u001b[0mfig\u001b[0m\u001b[1;33m)\u001b[0m\u001b[1;33m\u001b[0m\u001b[0m\n\u001b[0m\u001b[0;32m    416\u001b[0m \u001b[1;33m\u001b[0m\u001b[0m\n\u001b[0;32m    417\u001b[0m         \u001b[0miter_ops\u001b[0m \u001b[1;33m/=\u001b[0m \u001b[1;36m4.\u001b[0m\u001b[1;33m\u001b[0m\u001b[0m\n",
      "\u001b[1;32m/home/tronco/FastAlgorithms/lib.py\u001b[0m in \u001b[0;36mvcycle_iteration\u001b[1;34m(x, b, h, v1, v2, fullweight, plot, ax, fig)\u001b[0m\n\u001b[0;32m    418\u001b[0m \u001b[1;33m\u001b[0m\u001b[0m\n\u001b[0;32m    419\u001b[0m         \u001b[1;31m#Interpolate x\u001b[0m\u001b[1;33m\u001b[0m\u001b[1;33m\u001b[0m\u001b[0m\n\u001b[1;32m--> 420\u001b[1;33m         \u001b[0mx\u001b[0m \u001b[1;33m=\u001b[0m \u001b[0mx\u001b[0m \u001b[1;33m+\u001b[0m \u001b[0minterpolate\u001b[0m\u001b[1;33m(\u001b[0m\u001b[0meC\u001b[0m\u001b[1;33m)\u001b[0m\u001b[1;33m\u001b[0m\u001b[0m\n\u001b[0m\u001b[0;32m    421\u001b[0m \u001b[1;33m\u001b[0m\u001b[0m\n\u001b[0;32m    422\u001b[0m     \u001b[1;32melse\u001b[0m\u001b[1;33m:\u001b[0m\u001b[1;33m\u001b[0m\u001b[0m\n",
      "\u001b[1;31mKeyboardInterrupt\u001b[0m: "
     ]
    }
   ],
   "source": [
    "nodes = 65\n",
    "u = create_solution(nodes)\n",
    "x = np.linspace(0,1,nodes+2)[1:-1]\n",
    "f = create_right(x,x)\n",
    "h = 1./(nodes-1)\n",
    "b_residue = 1e10\n",
    "b_error = 1e10\n",
    "\n",
    "for i in range(1,300):\n",
    "    for j in range(1,11):\n",
    "        for k in range(1,11):\n",
    "            v,ops = full_multigrid2(65,v0=i,v1=j,v2=k,rest_type=\"injection\")\n",
    "            \n",
    "            error = np.linalg.norm(u-v)\n",
    "            residue =np.linalg.norm(calculate_residue(v,f,h=h))\n",
    "            \n",
    "            if error < b_error:\n",
    "                b_error = error\n",
    "                b_error_v = (v,i,j,k)\n",
    "            \n",
    "            if residue < b_residue:\n",
    "                b_residue = residue\n",
    "                b_residue_v = (v,i,j,k)\n",
    "            "
   ]
  },
  {
   "cell_type": "code",
   "execution_count": null,
   "metadata": {},
   "outputs": [],
   "source": [
    "full_multigrid2(65)"
   ]
  }
 ],
 "metadata": {
  "anaconda-cloud": {},
  "kernelspec": {
   "display_name": "Python 2",
   "language": "python",
   "name": "python2"
  },
  "language_info": {
   "codemirror_mode": {
    "name": "ipython",
    "version": 2
   },
   "file_extension": ".py",
   "mimetype": "text/x-python",
   "name": "python",
   "nbconvert_exporter": "python",
   "pygments_lexer": "ipython2",
   "version": "2.7.12"
  }
 },
 "nbformat": 4,
 "nbformat_minor": 2
}
