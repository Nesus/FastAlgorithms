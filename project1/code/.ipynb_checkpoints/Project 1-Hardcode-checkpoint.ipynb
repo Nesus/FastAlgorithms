{
 "cells": [
  {
   "cell_type": "raw",
   "metadata": {},
   "source": [
    "# Project 1 - Multigrid "
   ]
  },
  {
   "cell_type": "code",
   "execution_count": 1,
   "metadata": {
    "collapsed": true
   },
   "outputs": [],
   "source": [
    "import numpy as np\n",
    "import time\n",
    "import matplotlib.pyplot as plt\n",
    "\n",
    "from numba import jit,int32,float64,boolean\n",
    "\n",
    "\n",
    "%matplotlib notebook"
   ]
  },
  {
   "cell_type": "code",
   "execution_count": 2,
   "metadata": {
    "collapsed": true
   },
   "outputs": [],
   "source": [
    "\"\"\"\n",
    "Create the exact solution for the poisson equation\n",
    "\n",
    "\"\"\"\n",
    "@jit(float64[:,:](int32),nopython=True,nogil=True)\n",
    "def create_solution(m):\n",
    "    x = np.linspace(0,1,m+2)[1:-1]\n",
    "    y = np.linspace(0,1,m+2)[1:-1]\n",
    "    \n",
    "    \n",
    "    n_x = len(x)\n",
    "    n_y = len(y)\n",
    "    u= np.zeros((n_x,n_y))\n",
    "    for i,x_i in enumerate(x): \n",
    "        for j,y_j in enumerate(y):\n",
    "            u[i,j] = (x_i**2-x_i**4)*(y_j**4-y_j**2)\n",
    "    return u"
   ]
  },
  {
   "cell_type": "code",
   "execution_count": 3,
   "metadata": {},
   "outputs": [
    {
     "name": "stdout",
     "output_type": "stream",
     "text": [
      "The slowest run took 6.80 times longer than the fastest. This could mean that an intermediate result is being cached.\n",
      "100000 loops, best of 3: 3.68 µs per loop\n"
     ]
    }
   ],
   "source": [
    "%timeit create_solution(65)"
   ]
  },
  {
   "cell_type": "code",
   "execution_count": 4,
   "metadata": {
    "collapsed": true
   },
   "outputs": [],
   "source": [
    "\"\"\"\n",
    "Gauss seidel iteration implementation for Poisson Equation.\n",
    "\"\"\"\n",
    "@jit(float64[:,:](float64[:,:],float64[:,:], float64),nopython=True,nogil=True)\n",
    "def gauss_seidel_iteration(x, b, h = None):\n",
    "\n",
    "    n_x,n_y = x.shape\n",
    "    \n",
    "    if not h:\n",
    "        h = 1./n_x\n",
    "    \n",
    "    for i in range(n_x):\n",
    "        for j in range(n_y):\n",
    "            node_sum = b[i,j] * h**2 \n",
    "            \n",
    "            #Check if we aren't in a \n",
    "            #otherwise we substract 0\n",
    "            if i > 0:\n",
    "                node_sum -= x[i-1,j]\n",
    "            if i < (n_x -1):\n",
    "                node_sum -= x[i+1,j]\n",
    "            if j > 0:\n",
    "                node_sum -= x[i,j-1]\n",
    "            if j < (n_y -1):\n",
    "                node_sum -= x[i,j+1]\n",
    "            \n",
    "            node_sum /= -4.\n",
    "            \n",
    "            x[i,j] = node_sum\n",
    "    return x"
   ]
  },
  {
   "cell_type": "code",
   "execution_count": 5,
   "metadata": {
    "collapsed": true
   },
   "outputs": [],
   "source": [
    "\"\"\"\n",
    "Create the right part of the Poisson Equation using the grid data.\n",
    "\"\"\"\n",
    "@jit(float64[:,:](float64[:],float64[:]),nopython=True,nogil=True)\n",
    "def create_right(x,y):\n",
    "    m = len(x)\n",
    "    b = np.zeros((m,m))\n",
    "    \n",
    "    for i in range(m):\n",
    "        for j in range(m):\n",
    "            b[i,j] = - 2 * ((1-6*x[i]**2)  \n",
    "                             *y[j]**2 \n",
    "                            *(1-y[j]**2) \n",
    "                            +(1-6*y[j]**2)\n",
    "                            *x[i]**2 \n",
    "                            *(1 - x[i]**2))\n",
    "    return b\n",
    "\"\"\"\n",
    "Calculate the residue for the current solution.\n",
    "\"\"\"\n",
    "@jit(float64[:,:](float64[:,:],float64[:,:], float64),nopython=True,nogil=True)\n",
    "def calculate_residue(x,b, h = None):\n",
    "    n_x,n_y = x.shape\n",
    "\n",
    "    errors = np.zeros((n_x,n_y))\n",
    "    for i in range(n_x):\n",
    "        for j in range(n_y):\n",
    "            node_sum = -4*x[i,j]\n",
    "            if i > 0:\n",
    "                node_sum += x[i-1,j]\n",
    "            if i < (n_x -1):\n",
    "                node_sum += x[i+1,j]\n",
    "            if j > 0:\n",
    "                node_sum += x[i,j-1]\n",
    "            if j < (n_y -1):\n",
    "                node_sum += x[i,j+1]\n",
    "            errors[i,j] = b[i,j] - node_sum/h**2\n",
    "    return errors"
   ]
  },
  {
   "cell_type": "code",
   "execution_count": 6,
   "metadata": {
    "collapsed": true
   },
   "outputs": [],
   "source": [
    "\"\"\"\n",
    "Gauss seidel\n",
    "\"\"\"\n",
    "def gauss_seidel(m, atol = 1e-3, plot=False, random_seed = -1):\n",
    "        \n",
    "    if plot:\n",
    "        fig,ax = plt.subplots(1,1)\n",
    "        \n",
    "    x = np.linspace(0,1,m+2)[1:-1]\n",
    "    y = np.linspace(0,1,m+2)[1:-1]\n",
    "    \n",
    "    h = x[1] - x[0]\n",
    "    \n",
    "    if random_seed > 0:\n",
    "        np.random.seed(random_seed)\n",
    "        v = np.random.rand(m,m)\n",
    "    else:\n",
    "        v = np.zeros((m,m))\n",
    "        \n",
    "    f = create_right(x,y)\n",
    "    \n",
    "    r = np.linalg.norm(calculate_residue(v,f,h))\n",
    "    iters = 0\n",
    "    \n",
    "    while r > atol:\n",
    "        v = gauss_seidel_iteration(v,f,h)\n",
    "        \n",
    "        r = np.linalg.norm(calculate_residue(v,f,h))\n",
    "        \n",
    "        iters += 1\n",
    "        if plot:\n",
    "            ax.set_title(\"Iteration: {}, Residue: {}\".format(iters,r))\n",
    "            ax.imshow(v)\n",
    "            fig.canvas.draw()\n",
    "    return v,iters"
   ]
  },
  {
   "cell_type": "code",
   "execution_count": 7,
   "metadata": {
    "collapsed": true
   },
   "outputs": [],
   "source": [
    "@jit(float64[:,:](float64[:,:], boolean), nopython=True,nogil=True)\n",
    "def restrict(r, fullweight=True):\n",
    "    m = len(r)\n",
    "    mC = int((m-1)/2+1)\n",
    "\n",
    "    rC = np.zeros((mC,mC))\n",
    "\n",
    "    for i in range(mC):\n",
    "        for j in range(mC):\n",
    "            rC[i,j] = r[2*i,2*j]\n",
    "            \n",
    "            if fullweight:\n",
    "                if 2*i > 0:\n",
    "                    rC[i,j] += 1/2. * r[2*i-1,2*j]\n",
    "                if 2*i < m-1:          \n",
    "                    rC[i,j] += 1/2. * r[2*i+1,2*j]\n",
    "                if 2*j > 0:\n",
    "                    rC[i,j] += 1/2. * r[2*i,2*j-1]\n",
    "                if 2*j < m-1:          \n",
    "                    rC[i,j] += 1/2. * r[2*i,2*j +1]\n",
    "\n",
    "                if 2*i > 0 and 2*j < m-1:            \n",
    "                    rC[i,j] += 1/16. * r[2*i-1,2*j+1]\n",
    "                if 2*i < m-1 and 2*j < m-1:\n",
    "                    rC[i,j] += 1/16. * r[2*i+1,2*j+1]\n",
    "                if 2*i > 0 and 2*j > 0:                \n",
    "                    rC[i,j] += 1/16. * r[2*i-1,2*j-1]\n",
    "                if 2*i < m-1 and 2*j > 0:                    \n",
    "                    rC[i,j] += 1/16. * r[2*i+1,2*j-1]\n",
    "            rC[i,j] *= 1/4.\n",
    "            \n",
    "    return rC"
   ]
  },
  {
   "cell_type": "code",
   "execution_count": 8,
   "metadata": {
    "collapsed": true
   },
   "outputs": [],
   "source": [
    "@jit(float64[:,:](float64[:,:]), nopython=True,nogil=True)\n",
    "def interpolate(rC):\n",
    "    m = int(((rC.shape[0]-1)*2)+1)\n",
    "    \n",
    "    r = np.zeros((m,m))\n",
    "    \n",
    "    for i in range(rC.shape[0]):\n",
    "        for j in range(rC.shape[1]):\n",
    "            \n",
    "            r[2*i,2*j] +=  rC[i,j]\n",
    "            \n",
    "            if 2*i > 0:\n",
    "                r[2*i -1,2*j] += 1/2. * rC[i,j]\n",
    "            if 2*i < m-1:\n",
    "                r[2*i +1,2*j] += 1/2. * rC[i,j]\n",
    "            if 2*j > 0:\n",
    "                r[2*i,2*j -1] += 1/2. * rC[i,j]\n",
    "            if 2*j < m -1:\n",
    "                r[2*i,2*j +1] += 1/2. * rC[i,j]\n",
    "            \n",
    "            if 2*i > 0 and 2*j < m-1:\n",
    "                r[2*i-1,2*j +1] += 1/4. * rC[i,j]\n",
    "            if 2*i < m-1 and 2*j < m-1:    \n",
    "                r[2*i+1,2*j +1] += 1/4. * rC[i,j]\n",
    "            if 2*i > 0 and 2*j > 0:\n",
    "                r[2*i-1,2*j -1] += 1/4. * rC[i,j]\n",
    "            if 2*i < m-1 and 2*j > 0:    \n",
    "                r[2*i+1,2*j -1] += 1/4. * rC[i,j]\n",
    "    return r"
   ]
  },
  {
   "cell_type": "code",
   "execution_count": 9,
   "metadata": {
    "collapsed": true
   },
   "outputs": [],
   "source": [
    "@jit(int32(int32,int32,int32), nopython=True, nogil=True)\n",
    "def linearize(x,y,m):\n",
    "    return x+y*m\n",
    "\n",
    "@jit(float64[:,:](int32,float64), nopython=True,nogil=True)\n",
    "def create_system(m,h=None):\n",
    "    if not h:\n",
    "        h_x = 1./(m-1)\n",
    "        h_y = 1./(m-1)\n",
    "    \n",
    "    else:\n",
    "        h_x = h\n",
    "        h_y = h\n",
    "    \n",
    "    n = m**2\n",
    "    A = np.zeros((n,n))\n",
    "    for i in range(m):\n",
    "        for j in range(m):\n",
    "            index = linearize(i,j,m)\n",
    "            if i==0 or i == m-1 or j == 0 or j == m -1:\n",
    "                if i!= 0:\n",
    "                    A[index, linearize(i-1,j,m)] = 1./(h**2) \n",
    "                if i != m-1:\n",
    "                    A[index, linearize(i+1,j,m)] = 1./(h**2) \n",
    "                if j != 0:\n",
    "                    A[index, linearize(i,j-1,m)] = 1./(h**2)\n",
    "                if j != m-1:\n",
    "                    A[index, linearize(i,j+1,m)] = 1./(h**2)\n",
    "                A[index, linearize(i,j,m)] = -4./(h**2)\n",
    "            else:\n",
    "                A[index, linearize(i-1,j,m)] = 1./(h**2)\n",
    "                A[index, linearize(i+1,j,m)] = 1./(h**2)\n",
    "\n",
    "                A[index, linearize(i,j,m)] = -4/(h**2)\n",
    "\n",
    "                A[index, linearize(i,j-1,m)] = 1./(h**2)\n",
    "                A[index, linearize(i,j+1,m)] = 1./(h**2)\n",
    "\n",
    "            \n",
    "    return A"
   ]
  },
  {
   "cell_type": "code",
   "execution_count": 10,
   "metadata": {
    "collapsed": true
   },
   "outputs": [],
   "source": [
    "def vcycle_iteration(x,b, h = None, v1 = 2, v2=2, fullweight=True,plot=False, ax=None, fig=None):\n",
    "    \n",
    "    m = x.shape[0]\n",
    "    if not h:\n",
    "        h = 1./(m-1)\n",
    "    \n",
    "    #Do v1 gauss_seidel iterations\n",
    "    for i in range(v1):\n",
    "        gauss_seidel_iteration(x,b,h)\n",
    "        \n",
    "        if plot and fig and ax:\n",
    "            ax.set_title(\"Resolution: {}x{}\".format(m,m))\n",
    "            ax.imshow(x)\n",
    "            fig.canvas.draw()    \n",
    "\n",
    "    #If m is even solve the problem directly\n",
    "    #otherwise calculate residue, restrict the residue\n",
    "    #and recursively do a vcycle iteration in a coarser grid\n",
    "    #then interpolate the result\n",
    "    if m % 2 != 0:\n",
    "        r = calculate_residue(x,b,h)\n",
    "        \n",
    "        #Restrict r\n",
    "        residC = restrict(r,fullweight=fullweight)\n",
    "        \n",
    "        #Calculate Ae=r in coarser grid\n",
    "        eC = np.zeros_like(residC)\n",
    "        eC, iter_ops = vcycle_iteration(eC,residC,h = 2*h, v1 = v1, v2=v2, fullweight=fullweight,plot=plot, ax=ax, fig=fig)\n",
    "        \n",
    "        iter_ops /= 4.\n",
    "        \n",
    "        #Interpolate x\n",
    "        x = x + interpolate(eC)\n",
    "        \n",
    "    else:\n",
    "        if m > 10:\n",
    "            raise Exception(\"Grid Too big for direct solver\")\n",
    "        #Create full matrix\n",
    "        #And solve using a direct solver\n",
    "        A = create_system(m,h=h)\n",
    "        shapeF = b.shape\n",
    "        b = b.flatten()\n",
    "        return np.linalg.solve(A,b).reshape(shapeF), 0\n",
    "    \n",
    "    #Run v2 times gauss seidel iterations\n",
    "    for i in range(v2):\n",
    "        gauss_seidel_iteration(x,b,h)\n",
    "        \n",
    "        if plot and fig and ax:\n",
    "            ax.set_title(\"Resolution: {}x{}\".format(m,m))\n",
    "            ax.imshow(x)\n",
    "            fig.canvas.draw()\n",
    "    \n",
    "\n",
    "    return x, v1+v2+iter_ops"
   ]
  },
  {
   "cell_type": "code",
   "execution_count": 11,
   "metadata": {
    "collapsed": true
   },
   "outputs": [],
   "source": [
    "def vcycle(m, v1 = 2, v2=2, atol = 1e-3, rest_type=None,plot=False, ax = None, fig= None, random_seed = -1):\n",
    "    if m%2==0:\n",
    "        raise Exception(\"This implementation works only with odd grids\")\n",
    "    \n",
    "    if rest_type:\n",
    "        if rest_type == \"injection\":\n",
    "            fullweight = False\n",
    "        elif rest_type ==\"full_weight\":\n",
    "            fullweight = True\n",
    "        else:\n",
    "            raise Exception(\"Restriction not supported\")\n",
    "    else:\n",
    "        fullweight = True\n",
    "\n",
    "    if plot:\n",
    "        fig,ax = plt.subplots(1,1)\n",
    "    else:\n",
    "        fig,ax = (None,None)\n",
    "        \n",
    "    x = np.linspace(0,1,m+2)[1:-1]\n",
    "    y = np.linspace(0,1,m+2)[1:-1]\n",
    "    \n",
    "    h = x[1] - x[0]\n",
    "    \n",
    "    if random_seed > 0:\n",
    "        np.random.seed(random_seed)\n",
    "        v = np.random.rand(m,m)\n",
    "    else:\n",
    "        v = np.zeros((m,m))\n",
    "        \n",
    "    f = create_right(x,y)\n",
    "    \n",
    "    r = np.linalg.norm(calculate_residue(v,f,h))\n",
    "    iters = 0\n",
    "    ops_total = 0 \n",
    "    while r > atol:\n",
    "        v,ops = vcycle_iteration(v,f, h = h, v1 = v1, v2=v2, fullweight = fullweight,plot = plot, fig=fig, ax = ax)\n",
    "        r = np.linalg.norm(calculate_residue(v,f,h))\n",
    "        iters += 1\n",
    "        ops_total +=ops\n",
    "\n",
    "    return v,iters,ops_total"
   ]
  },
  {
   "cell_type": "code",
   "execution_count": 12,
   "metadata": {
    "collapsed": true
   },
   "outputs": [],
   "source": [
    "def calculate_coarser(m):\n",
    "    while m %2 != 0:\n",
    "        m = ((m-1)/2)+1\n",
    "    return m"
   ]
  },
  {
   "cell_type": "code",
   "execution_count": 13,
   "metadata": {
    "collapsed": true
   },
   "outputs": [],
   "source": [
    "def multigrid_iter(x,b, h = None,v0=1, v1 = 2, v2=2, fullweight=True, plot=False, ax=None, fig=None):\n",
    "    \n",
    "    m = len(x)\n",
    "    if not h:\n",
    "        h = 1./(m-1)\n",
    "    \n",
    "    if m == calculate_coarser(m):\n",
    "        for i in range(v0):\n",
    "            x,ops = vcycle_iteration(x,b,h=h,v1=v1,v2=v2,fullweight=fullweight,plot=plot,ax=ax,fig=fig)\n",
    "        return x,ops\n",
    "        \n",
    "    else:\n",
    "        e = calculate_residue(x,b,h=h)\n",
    "        eC = restrict(e,fullweight=fullweight)\n",
    "        xC = np.zeros_like(eC)\n",
    "\n",
    "        eC,opsC = multigrid_iter(xC,eC,h=2*h,v0=v0,v1=v1,v2=v2,fullweight=fullweight,plot=plot,ax=ax,fig=fig)\n",
    "        \n",
    "        \n",
    "        x = x + interpolate(eC)\n",
    "        for i in range(v0):\n",
    "            x,ops = vcycle_iteration(x, b, h=h , v1=v1,v2=v2,fullweight=fullweight,plot=plot,ax=ax,fig=fig)\n",
    "        return x,ops+opsC/4."
   ]
  },
  {
   "cell_type": "code",
   "execution_count": 14,
   "metadata": {
    "collapsed": true
   },
   "outputs": [],
   "source": [
    "def full_multigrid(m,v0=1,v1=2,v2=2, plot=False,rest_type=None, atol=1e-3, random_seed= -1):\n",
    "    if m%2==0:\n",
    "        raise Exception(\"This implementation works only with odd grids\")\n",
    "    \n",
    "    if rest_type:\n",
    "        if rest_type == \"injection\":\n",
    "            fullweight = False\n",
    "        elif rest_type ==\"full_weight\":\n",
    "            fullweight = True\n",
    "        else:\n",
    "            raise Exception(\"Restriction not supported\")\n",
    "    else:\n",
    "        fullweight = True\n",
    "    \n",
    "    if plot:\n",
    "        fig,ax = plt.subplots(1,1)\n",
    "    else:\n",
    "        fig,ax = (None,None)\n",
    "    \n",
    "    grid_list = calculate_coarser(m)\n",
    "    \n",
    "    h = 1./(m-1)\n",
    "    \n",
    "    x = np.linspace(0,1,m+2)[1:-1]\n",
    "    y = np.linspace(0,1,m+2)[1:-1]    \n",
    "    \n",
    "    f = create_right(x,y)\n",
    "    \n",
    "    if random_seed > 0:\n",
    "        np.random.seed(random_seed)\n",
    "        v = np.random.rand(m,m)\n",
    "    else:\n",
    "        v = np.zeros((m,m))\n",
    " \n",
    "    r = np.linalg.norm(calculate_residue(v,f,h))\n",
    "    iters = 0\n",
    "    ops_total = 0\n",
    "    while r > atol:\n",
    "        v,ops = multigrid_iter(v,f,h = h, v0 = v0, v1=v1, v2=v2, fullweight=fullweight, plot=plot, ax=ax, fig=fig)\n",
    "        r = np.linalg.norm(calculate_residue(v,f,h))\n",
    "        iters += 1\n",
    "        ops_total += ops\n",
    "    return v,iters,ops_total"
   ]
  },
  {
   "cell_type": "code",
   "execution_count": 15,
   "metadata": {},
   "outputs": [
    {
     "ename": "KeyboardInterrupt",
     "evalue": "",
     "output_type": "error",
     "traceback": [
      "\u001b[1;31m---------------------------------------------------------------------------\u001b[0m",
      "\u001b[1;31mKeyboardInterrupt\u001b[0m                         Traceback (most recent call last)",
      "\u001b[1;32m<ipython-input-15-b0adacca2a9b>\u001b[0m in \u001b[0;36m<module>\u001b[1;34m()\u001b[0m\n\u001b[0;32m      1\u001b[0m \u001b[0mnodes\u001b[0m \u001b[1;33m=\u001b[0m \u001b[1;36m33\u001b[0m\u001b[1;33m\u001b[0m\u001b[0m\n\u001b[1;32m----> 2\u001b[1;33m \u001b[0mv\u001b[0m\u001b[1;33m,\u001b[0m\u001b[0mi\u001b[0m\u001b[1;33m,\u001b[0m\u001b[0mops\u001b[0m \u001b[1;33m=\u001b[0m \u001b[0mfull_multigrid\u001b[0m\u001b[1;33m(\u001b[0m\u001b[0mnodes\u001b[0m\u001b[1;33m,\u001b[0m\u001b[0matol\u001b[0m\u001b[1;33m=\u001b[0m\u001b[1;36m1e-13\u001b[0m\u001b[1;33m)\u001b[0m\u001b[1;33m\u001b[0m\u001b[0m\n\u001b[0m\u001b[0;32m      3\u001b[0m \u001b[0mu\u001b[0m \u001b[1;33m=\u001b[0m \u001b[0mcreate_solution\u001b[0m\u001b[1;33m(\u001b[0m\u001b[0mnodes\u001b[0m\u001b[1;33m)\u001b[0m\u001b[1;33m\u001b[0m\u001b[0m\n\u001b[0;32m      4\u001b[0m \u001b[1;32mprint\u001b[0m \u001b[0mi\u001b[0m\u001b[1;33m,\u001b[0m\u001b[0mops\u001b[0m\u001b[1;33m\u001b[0m\u001b[0m\n",
      "\u001b[1;32m<ipython-input-14-2bf1d51068fd>\u001b[0m in \u001b[0;36mfull_multigrid\u001b[1;34m(m, v0, v1, v2, plot, rest_type, atol, random_seed)\u001b[0m\n\u001b[0;32m     37\u001b[0m     \u001b[0mops_total\u001b[0m \u001b[1;33m=\u001b[0m \u001b[1;36m0\u001b[0m\u001b[1;33m\u001b[0m\u001b[0m\n\u001b[0;32m     38\u001b[0m     \u001b[1;32mwhile\u001b[0m \u001b[0mr\u001b[0m \u001b[1;33m>\u001b[0m \u001b[0matol\u001b[0m\u001b[1;33m:\u001b[0m\u001b[1;33m\u001b[0m\u001b[0m\n\u001b[1;32m---> 39\u001b[1;33m         \u001b[0mv\u001b[0m\u001b[1;33m,\u001b[0m\u001b[0mops\u001b[0m \u001b[1;33m=\u001b[0m \u001b[0mmultigrid_iter\u001b[0m\u001b[1;33m(\u001b[0m\u001b[0mv\u001b[0m\u001b[1;33m,\u001b[0m\u001b[0mf\u001b[0m\u001b[1;33m,\u001b[0m\u001b[0mh\u001b[0m \u001b[1;33m=\u001b[0m \u001b[0mh\u001b[0m\u001b[1;33m,\u001b[0m \u001b[0mv0\u001b[0m \u001b[1;33m=\u001b[0m \u001b[0mv0\u001b[0m\u001b[1;33m,\u001b[0m \u001b[0mv1\u001b[0m\u001b[1;33m=\u001b[0m\u001b[0mv1\u001b[0m\u001b[1;33m,\u001b[0m \u001b[0mv2\u001b[0m\u001b[1;33m=\u001b[0m\u001b[0mv2\u001b[0m\u001b[1;33m,\u001b[0m \u001b[0mfullweight\u001b[0m\u001b[1;33m=\u001b[0m\u001b[0mfullweight\u001b[0m\u001b[1;33m,\u001b[0m \u001b[0mplot\u001b[0m\u001b[1;33m=\u001b[0m\u001b[0mplot\u001b[0m\u001b[1;33m,\u001b[0m \u001b[0max\u001b[0m\u001b[1;33m=\u001b[0m\u001b[0max\u001b[0m\u001b[1;33m,\u001b[0m \u001b[0mfig\u001b[0m\u001b[1;33m=\u001b[0m\u001b[0mfig\u001b[0m\u001b[1;33m)\u001b[0m\u001b[1;33m\u001b[0m\u001b[0m\n\u001b[0m\u001b[0;32m     40\u001b[0m         \u001b[0mr\u001b[0m \u001b[1;33m=\u001b[0m \u001b[0mnp\u001b[0m\u001b[1;33m.\u001b[0m\u001b[0mlinalg\u001b[0m\u001b[1;33m.\u001b[0m\u001b[0mnorm\u001b[0m\u001b[1;33m(\u001b[0m\u001b[0mcalculate_residue\u001b[0m\u001b[1;33m(\u001b[0m\u001b[0mv\u001b[0m\u001b[1;33m,\u001b[0m\u001b[0mf\u001b[0m\u001b[1;33m,\u001b[0m\u001b[0mh\u001b[0m\u001b[1;33m)\u001b[0m\u001b[1;33m)\u001b[0m\u001b[1;33m\u001b[0m\u001b[0m\n\u001b[0;32m     41\u001b[0m         \u001b[0miters\u001b[0m \u001b[1;33m+=\u001b[0m \u001b[1;36m1\u001b[0m\u001b[1;33m\u001b[0m\u001b[0m\n",
      "\u001b[1;32m<ipython-input-13-3c505d376e61>\u001b[0m in \u001b[0;36mmultigrid_iter\u001b[1;34m(x, b, h, v0, v1, v2, fullweight, plot, ax, fig)\u001b[0m\n\u001b[0;32m     15\u001b[0m         \u001b[0mxC\u001b[0m \u001b[1;33m=\u001b[0m \u001b[0mnp\u001b[0m\u001b[1;33m.\u001b[0m\u001b[0mzeros_like\u001b[0m\u001b[1;33m(\u001b[0m\u001b[0meC\u001b[0m\u001b[1;33m)\u001b[0m\u001b[1;33m\u001b[0m\u001b[0m\n\u001b[0;32m     16\u001b[0m \u001b[1;33m\u001b[0m\u001b[0m\n\u001b[1;32m---> 17\u001b[1;33m         \u001b[0meC\u001b[0m\u001b[1;33m,\u001b[0m\u001b[0mopsC\u001b[0m \u001b[1;33m=\u001b[0m \u001b[0mmultigrid_iter\u001b[0m\u001b[1;33m(\u001b[0m\u001b[0mxC\u001b[0m\u001b[1;33m,\u001b[0m\u001b[0meC\u001b[0m\u001b[1;33m,\u001b[0m\u001b[0mh\u001b[0m\u001b[1;33m=\u001b[0m\u001b[1;36m2\u001b[0m\u001b[1;33m*\u001b[0m\u001b[0mh\u001b[0m\u001b[1;33m,\u001b[0m\u001b[0mv0\u001b[0m\u001b[1;33m=\u001b[0m\u001b[0mv0\u001b[0m\u001b[1;33m,\u001b[0m\u001b[0mv1\u001b[0m\u001b[1;33m=\u001b[0m\u001b[0mv1\u001b[0m\u001b[1;33m,\u001b[0m\u001b[0mv2\u001b[0m\u001b[1;33m=\u001b[0m\u001b[0mv2\u001b[0m\u001b[1;33m,\u001b[0m\u001b[0mfullweight\u001b[0m\u001b[1;33m=\u001b[0m\u001b[0mfullweight\u001b[0m\u001b[1;33m,\u001b[0m\u001b[0mplot\u001b[0m\u001b[1;33m=\u001b[0m\u001b[0mplot\u001b[0m\u001b[1;33m,\u001b[0m\u001b[0max\u001b[0m\u001b[1;33m=\u001b[0m\u001b[0max\u001b[0m\u001b[1;33m,\u001b[0m\u001b[0mfig\u001b[0m\u001b[1;33m=\u001b[0m\u001b[0mfig\u001b[0m\u001b[1;33m)\u001b[0m\u001b[1;33m\u001b[0m\u001b[0m\n\u001b[0m\u001b[0;32m     18\u001b[0m \u001b[1;33m\u001b[0m\u001b[0m\n\u001b[0;32m     19\u001b[0m \u001b[1;33m\u001b[0m\u001b[0m\n",
      "\u001b[1;32m<ipython-input-13-3c505d376e61>\u001b[0m in \u001b[0;36mmultigrid_iter\u001b[1;34m(x, b, h, v0, v1, v2, fullweight, plot, ax, fig)\u001b[0m\n\u001b[0;32m     15\u001b[0m         \u001b[0mxC\u001b[0m \u001b[1;33m=\u001b[0m \u001b[0mnp\u001b[0m\u001b[1;33m.\u001b[0m\u001b[0mzeros_like\u001b[0m\u001b[1;33m(\u001b[0m\u001b[0meC\u001b[0m\u001b[1;33m)\u001b[0m\u001b[1;33m\u001b[0m\u001b[0m\n\u001b[0;32m     16\u001b[0m \u001b[1;33m\u001b[0m\u001b[0m\n\u001b[1;32m---> 17\u001b[1;33m         \u001b[0meC\u001b[0m\u001b[1;33m,\u001b[0m\u001b[0mopsC\u001b[0m \u001b[1;33m=\u001b[0m \u001b[0mmultigrid_iter\u001b[0m\u001b[1;33m(\u001b[0m\u001b[0mxC\u001b[0m\u001b[1;33m,\u001b[0m\u001b[0meC\u001b[0m\u001b[1;33m,\u001b[0m\u001b[0mh\u001b[0m\u001b[1;33m=\u001b[0m\u001b[1;36m2\u001b[0m\u001b[1;33m*\u001b[0m\u001b[0mh\u001b[0m\u001b[1;33m,\u001b[0m\u001b[0mv0\u001b[0m\u001b[1;33m=\u001b[0m\u001b[0mv0\u001b[0m\u001b[1;33m,\u001b[0m\u001b[0mv1\u001b[0m\u001b[1;33m=\u001b[0m\u001b[0mv1\u001b[0m\u001b[1;33m,\u001b[0m\u001b[0mv2\u001b[0m\u001b[1;33m=\u001b[0m\u001b[0mv2\u001b[0m\u001b[1;33m,\u001b[0m\u001b[0mfullweight\u001b[0m\u001b[1;33m=\u001b[0m\u001b[0mfullweight\u001b[0m\u001b[1;33m,\u001b[0m\u001b[0mplot\u001b[0m\u001b[1;33m=\u001b[0m\u001b[0mplot\u001b[0m\u001b[1;33m,\u001b[0m\u001b[0max\u001b[0m\u001b[1;33m=\u001b[0m\u001b[0max\u001b[0m\u001b[1;33m,\u001b[0m\u001b[0mfig\u001b[0m\u001b[1;33m=\u001b[0m\u001b[0mfig\u001b[0m\u001b[1;33m)\u001b[0m\u001b[1;33m\u001b[0m\u001b[0m\n\u001b[0m\u001b[0;32m     18\u001b[0m \u001b[1;33m\u001b[0m\u001b[0m\n\u001b[0;32m     19\u001b[0m \u001b[1;33m\u001b[0m\u001b[0m\n",
      "\u001b[1;32m<ipython-input-13-3c505d376e61>\u001b[0m in \u001b[0;36mmultigrid_iter\u001b[1;34m(x, b, h, v0, v1, v2, fullweight, plot, ax, fig)\u001b[0m\n\u001b[0;32m     20\u001b[0m         \u001b[0mx\u001b[0m \u001b[1;33m=\u001b[0m \u001b[0mx\u001b[0m \u001b[1;33m+\u001b[0m \u001b[0minterpolate\u001b[0m\u001b[1;33m(\u001b[0m\u001b[0meC\u001b[0m\u001b[1;33m)\u001b[0m\u001b[1;33m\u001b[0m\u001b[0m\n\u001b[0;32m     21\u001b[0m         \u001b[1;32mfor\u001b[0m \u001b[0mi\u001b[0m \u001b[1;32min\u001b[0m \u001b[0mrange\u001b[0m\u001b[1;33m(\u001b[0m\u001b[0mv0\u001b[0m\u001b[1;33m)\u001b[0m\u001b[1;33m:\u001b[0m\u001b[1;33m\u001b[0m\u001b[0m\n\u001b[1;32m---> 22\u001b[1;33m             \u001b[0mx\u001b[0m\u001b[1;33m,\u001b[0m\u001b[0mops\u001b[0m \u001b[1;33m=\u001b[0m \u001b[0mvcycle_iteration\u001b[0m\u001b[1;33m(\u001b[0m\u001b[0mx\u001b[0m\u001b[1;33m,\u001b[0m \u001b[0mb\u001b[0m\u001b[1;33m,\u001b[0m \u001b[0mh\u001b[0m\u001b[1;33m=\u001b[0m\u001b[0mh\u001b[0m \u001b[1;33m,\u001b[0m \u001b[0mv1\u001b[0m\u001b[1;33m=\u001b[0m\u001b[0mv1\u001b[0m\u001b[1;33m,\u001b[0m\u001b[0mv2\u001b[0m\u001b[1;33m=\u001b[0m\u001b[0mv2\u001b[0m\u001b[1;33m,\u001b[0m\u001b[0mfullweight\u001b[0m\u001b[1;33m=\u001b[0m\u001b[0mfullweight\u001b[0m\u001b[1;33m,\u001b[0m\u001b[0mplot\u001b[0m\u001b[1;33m=\u001b[0m\u001b[0mplot\u001b[0m\u001b[1;33m,\u001b[0m\u001b[0max\u001b[0m\u001b[1;33m=\u001b[0m\u001b[0max\u001b[0m\u001b[1;33m,\u001b[0m\u001b[0mfig\u001b[0m\u001b[1;33m=\u001b[0m\u001b[0mfig\u001b[0m\u001b[1;33m)\u001b[0m\u001b[1;33m\u001b[0m\u001b[0m\n\u001b[0m\u001b[0;32m     23\u001b[0m         \u001b[1;32mreturn\u001b[0m \u001b[0mx\u001b[0m\u001b[1;33m,\u001b[0m\u001b[0mops\u001b[0m\u001b[1;33m+\u001b[0m\u001b[0mopsC\u001b[0m\u001b[1;33m/\u001b[0m\u001b[1;36m4.\u001b[0m\u001b[1;33m\u001b[0m\u001b[0m\n",
      "\u001b[1;32m<ipython-input-10-a98ca9dd96d2>\u001b[0m in \u001b[0;36mvcycle_iteration\u001b[1;34m(x, b, h, v1, v2, fullweight, plot, ax, fig)\u001b[0m\n\u001b[0;32m     22\u001b[0m \u001b[1;33m\u001b[0m\u001b[0m\n\u001b[0;32m     23\u001b[0m         \u001b[1;31m#Restrict r\u001b[0m\u001b[1;33m\u001b[0m\u001b[1;33m\u001b[0m\u001b[0m\n\u001b[1;32m---> 24\u001b[1;33m         \u001b[0mresidC\u001b[0m \u001b[1;33m=\u001b[0m \u001b[0mrestrict\u001b[0m\u001b[1;33m(\u001b[0m\u001b[0mr\u001b[0m\u001b[1;33m,\u001b[0m\u001b[0mfullweight\u001b[0m\u001b[1;33m=\u001b[0m\u001b[0mfullweight\u001b[0m\u001b[1;33m)\u001b[0m\u001b[1;33m\u001b[0m\u001b[0m\n\u001b[0m\u001b[0;32m     25\u001b[0m \u001b[1;33m\u001b[0m\u001b[0m\n\u001b[0;32m     26\u001b[0m         \u001b[1;31m#Calculate Ae=r in coarser grid\u001b[0m\u001b[1;33m\u001b[0m\u001b[1;33m\u001b[0m\u001b[0m\n",
      "\u001b[1;31mKeyboardInterrupt\u001b[0m: "
     ]
    }
   ],
   "source": [
    "nodes = 33\n",
    "v,i,ops = full_multigrid(nodes,atol=1e-13)\n",
    "u = create_solution(nodes)\n",
    "print i,ops"
   ]
  },
  {
   "cell_type": "code",
   "execution_count": null,
   "metadata": {
    "collapsed": true
   },
   "outputs": [],
   "source": [
    "plt.imshow(u-v)\n",
    "plt.show()"
   ]
  },
  {
   "cell_type": "code",
   "execution_count": null,
   "metadata": {
    "collapsed": true
   },
   "outputs": [],
   "source": [
    "fig = "
   ]
  }
 ],
 "metadata": {
  "anaconda-cloud": {},
  "kernelspec": {
   "display_name": "Python 2",
   "language": "python",
   "name": "python2"
  },
  "language_info": {
   "codemirror_mode": {
    "name": "ipython",
    "version": 2
   },
   "file_extension": ".py",
   "mimetype": "text/x-python",
   "name": "python",
   "nbconvert_exporter": "python",
   "pygments_lexer": "ipython2",
   "version": "2.7.12"
  }
 },
 "nbformat": 4,
 "nbformat_minor": 2
}
