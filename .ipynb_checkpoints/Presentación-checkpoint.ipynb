{
 "cells": [
  {
   "cell_type": "code",
   "execution_count": null,
   "metadata": {
    "collapsed": false
   },
   "outputs": [],
   "source": [
    "from lib import *\n",
    "import time\n",
    "import matplotlib.pyplot as plt\n",
    "import numpy as np\n",
    "\n",
    "%matplotlib inline"
   ]
  },
  {
   "cell_type": "code",
   "execution_count": null,
   "metadata": {
    "collapsed": false
   },
   "outputs": [
    {
     "name": "stdout",
     "output_type": "stream",
     "text": [
      "3 , 5 , 7 , 9 , 11 , 13 , 15 , 17 , 19 , 21 , 23 , 25 , 27 , 29 , 31 , 33 , 35 , 37 , 39 , 41 , 43 , 45 , 47 , 49 , 51 , 53 , 55 , 57 , 59 , 61 , 63 , 65 , 67 , 69 , 71 ,"
     ]
    }
   ],
   "source": [
    "tol = 1e-8\n",
    "node_list_initial = range(3,100,2)\n",
    "\n",
    "gauss_iters = []\n",
    "vcycle_iters = []\n",
    "fmg_iters = []\n",
    "\n",
    "vcycle_ops = []\n",
    "fmg_ops = []\n",
    "\n",
    "gauss_times = []\n",
    "vcycle_times = []\n",
    "fmg_times = []\n",
    "\n",
    "gauss_residues = []\n",
    "vcycle_residues = []\n",
    "fmg_residues = []\n",
    "\n",
    "node_list= []\n",
    "rest_type =\"full_weight\"\n",
    "\n",
    "for nodes in node_list_initial:\n",
    "    try:\n",
    "        u = create_solution(nodes)\n",
    "        \n",
    "        t0_v = time.time()    \n",
    "        _,i_v,ops_v=vcycle(nodes,atol=tol, rest_type=rest_type)\n",
    "        t1_v = time.time()\n",
    "        \n",
    "\n",
    "        t0_f = time.time()\n",
    "        _,i_f,ops_f=full_multigrid(nodes,atol=tol, rest_type=rest_type)\n",
    "        t1_f = time.time()\n",
    "        \n",
    "        t0_g = time.time()\n",
    "        _,i_g=gauss_seidel(nodes,atol=tol)\n",
    "        t1_g = time.time()\n",
    "\n",
    "        fmg_times.append(t1_f-t0_f)\n",
    "        fmg_iters.append(i_f)\n",
    "        fmg_ops.append(ops_f)\n",
    "\n",
    "        gauss_times.append(t1_g-t0_g)\n",
    "        gauss_iters.append(i_g)\n",
    "\n",
    "        vcycle_times.append(t1_v-t0_v)\n",
    "        vcycle_iters.append(i_v)\n",
    "        vcycle_ops.append(ops_v)\n",
    "        node_list.append(nodes)\n",
    "    except:\n",
    "        pass\n",
    "    print nodes,\",\","
   ]
  },
  {
   "cell_type": "markdown",
   "metadata": {},
   "source": [
    "Iterations"
   ]
  },
  {
   "cell_type": "code",
   "execution_count": null,
   "metadata": {
    "collapsed": false
   },
   "outputs": [],
   "source": [
    "fig,(ax1,ax2,ax3) = plt.subplots(1,3,figsize=(20,5))\n",
    "ax1.scatter(node_list,gauss_iters)\n",
    "ax2.scatter(node_list,vcycle_iters)\n",
    "ax3.scatter(node_list,fmg_iters)"
   ]
  },
  {
   "cell_type": "code",
   "execution_count": null,
   "metadata": {
    "collapsed": false
   },
   "outputs": [],
   "source": [
    "fig,ax1 = plt.subplots(1,1)\n",
    "ax1.plot(node_list,gauss_iters,\"r\")\n",
    "ax1.plot(node_list,vcycle_ops,\"g\")\n",
    "ax1.plot(node_list,fmg_ops,\"b\")"
   ]
  },
  {
   "cell_type": "code",
   "execution_count": null,
   "metadata": {
    "collapsed": false
   },
   "outputs": [],
   "source": [
    "fig,ax1 = plt.subplots(1,1)\n",
    "ax1.plot(node_list,gauss_times,\"r\")\n",
    "ax1.plot(node_list,vcycle_times,\"g\")\n",
    "ax1.plot(node_list,fmg_times,\"b\")"
   ]
  },
  {
   "cell_type": "code",
   "execution_count": null,
   "metadata": {
    "collapsed": false
   },
   "outputs": [],
   "source": [
    "node_list"
   ]
  },
  {
   "cell_type": "code",
   "execution_count": null,
   "metadata": {
    "collapsed": false,
    "scrolled": true
   },
   "outputs": [],
   "source": [
    "for n,i in zip(node_list,vcycle_iters):\n",
    "    print n,i"
   ]
  },
  {
   "cell_type": "code",
   "execution_count": null,
   "metadata": {
    "collapsed": true
   },
   "outputs": [],
   "source": []
  }
 ],
 "metadata": {
  "anaconda-cloud": {},
  "kernelspec": {
   "display_name": "Python 2",
   "language": "python",
   "name": "python2"
  },
  "language_info": {
   "codemirror_mode": {
    "name": "ipython",
    "version": 2
   },
   "file_extension": ".py",
   "mimetype": "text/x-python",
   "name": "python",
   "nbconvert_exporter": "python",
   "pygments_lexer": "ipython2",
   "version": "2.7.12"
  }
 },
 "nbformat": 4,
 "nbformat_minor": 2
}
