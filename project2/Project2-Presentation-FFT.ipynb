{
 "cells": [
  {
   "cell_type": "code",
   "execution_count": null,
   "metadata": {
    "collapsed": true
   },
   "outputs": [],
   "source": [
    "import matplotlib.pyplot as plt\n",
    "import numpy as np\n",
    "import time\n",
    "\n",
    "from numba import jit\n",
    "import scipy.fftpack as sfft\n",
    "\n",
    "%matplotlib inline"
   ]
  },
  {
   "cell_type": "code",
   "execution_count": null,
   "metadata": {},
   "outputs": [],
   "source": [
    "%%HTML \n",
    "<style> .output_png {text-align: center;} </style>"
   ]
  },
  {
   "cell_type": "code",
   "execution_count": null,
   "metadata": {
    "collapsed": true
   },
   "outputs": [],
   "source": [
    "def create_right(N):\n",
    "    b = np.zeros((N,N))\n",
    "    l = np.linspace(0,np.pi,N, endpoint=False)\n",
    "    for i in range(N):\n",
    "        for j in range(N):\n",
    "            x = l[i]\n",
    "            y = l[j]\n",
    "            b[i,j]  = 30 * ( (x/np.pi)**2 - x/np.pi )\n",
    "            b[i,j] += 30 * ( (y/np.pi)**2 - y/np.pi )\n",
    "            b[i,j] -= 4 * np.pi**2 * (x/np.pi - 1) * np.sin(2*y)\n",
    "            b[i,j] /= np.pi**2\n",
    "    return b"
   ]
  },
  {
   "cell_type": "code",
   "execution_count": null,
   "metadata": {
    "collapsed": true
   },
   "outputs": [],
   "source": [
    "def create_solution(N):\n",
    "    sol = np.zeros((N,N))\n",
    "    l = np.linspace(0,np.pi,N,endpoint=False)\n",
    "    for i in range(N):\n",
    "        for j in range(N):\n",
    "            x = l[i]\n",
    "            y = l[j]\n",
    "            sol[i,j] = 15 *(((x/np.pi)**2 - x/np.pi)  * ((y/np.pi)**2 - y/np.pi))\n",
    "            sol[i,j] -= np.sin(2*y) * np.sinh(2*np.pi*(x/np.pi -1))/np.sinh(2*np.pi)\n",
    "            sol[i,j] +=(x/np.pi -1 )* np.sin(2*y)\n",
    "    return sol"
   ]
  },
  {
   "cell_type": "markdown",
   "metadata": {},
   "source": [
    "# Fast Fourier Transform\n",
    "<h2 style=\"color:lightblue\">Camilo Valenzuela</h2>\n",
    "\n",
    "## Discrete Fourier Transform\n",
    "La Transformada de Fourier aproxima una funcion $f(x)$ en la suma de funciones llevandolo al plano de fourier.\n",
    "$${\\displaystyle {\\hat {f}}(k )=\\int _{-\\infty }^{\\infty }f(x)\\ e^{-2\\pi ixk }\\,dx,}$$\n",
    "\n",
    "Si se discretiza la función se obtiene la **Transformada de Fourier Discreta** que supone la función periódica\n",
    "$${\\displaystyle {\\begin{aligned}X_{k}&=\\sum _{n=0}^{N-1}x_{n}\\cdot e^{-i2\\pi kn/N}\\\\&=\\sum _{n=0}^{N-1}x_{n}\\cdot [\\cos(2\\pi kn/N)-i\\cdot \\sin(2\\pi kn/N)],\\end{aligned}}} $$\n",
    "\n",
    "Esta transformada tiene una complejidad $O(N^2)$."
   ]
  },
  {
   "cell_type": "code",
   "execution_count": null,
   "metadata": {
    "collapsed": true
   },
   "outputs": [],
   "source": [
    "def DFT(fnList):\n",
    "    N = len(fnList)\n",
    "    FmList = np.zeros(N,dtype='complex')\n",
    "    for m in range(N):\n",
    "        for n in range(N):\n",
    "            FmList[m] += fnList[n] * np.exp(- 2j * np.pi * m * n / N)\n",
    "    return FmList\n",
    "\n",
    "def iDFT(FmList):\n",
    "    N = len(FmList)\n",
    "    fnList = np.zeros(N,dtype='complex')\n",
    "    for n in range(N):\n",
    "        for m in range(N):\n",
    "            fnList[n] += FmList[m] * np.exp(2j * np.pi * m * n / N)\n",
    "    return fnList/N"
   ]
  },
  {
   "cell_type": "markdown",
   "metadata": {},
   "source": [
    "## Fast Fourier Transform (Recursiva)\n",
    "FFT es un algoritmo para calcular la Transformada de Fourier discreta de forma más rápida pasando de **$O(N^2)$** a **$O(N log(N))$**, eso lo logra **dividiendo la sumatoria** entre los coeficientes **pares** e **impares**"
   ]
  },
  {
   "cell_type": "code",
   "execution_count": null,
   "metadata": {
    "collapsed": true
   },
   "outputs": [],
   "source": [
    "def fft(x):\n",
    "    N = len(x)\n",
    "    if N <= 1:\n",
    "        return x\n",
    "    even = fft(x[0::2])\n",
    "    odd =  fft(x[1::2])\n",
    "    \n",
    "    N_2 = int(N/2)\n",
    "    k = np.arange(N_2)\n",
    "    T= np.exp(-2j*np.pi*k/N)*odd\n",
    "    return np.append(even + T ,even - T)\n",
    "\n",
    "def ifft(x):\n",
    "    x = x.real - 1j*x.imag\n",
    "    res = fft(x)/len(x)\n",
    "    return res.real - 1j*res.imag"
   ]
  },
  {
   "cell_type": "markdown",
   "metadata": {},
   "source": [
    "## Comparación entre DFT y FFT"
   ]
  },
  {
   "cell_type": "code",
   "execution_count": null,
   "metadata": {
    "collapsed": true
   },
   "outputs": [],
   "source": [
    "def experiment0_1D():\n",
    "    Ns = [16,32,64,128,256]\n",
    "    errors = []\n",
    "    times_dft = []\n",
    "    times_fft = []\n",
    "    times_np = []\n",
    "    for N in Ns:\n",
    "        f = create_right(N)\n",
    "        x = create_solution(N)\n",
    "        t0 = time.time()\n",
    "        x_dft = DFT(f[1,:])\n",
    "        times_dft.append(time.time()-t0)\n",
    "        t0 = time.time()\n",
    "        x_fft = fft(f[1,:])\n",
    "        times_fft.append(time.time()-t0)\n",
    "        t0 = time.time()\n",
    "        x_np = np.fft.fft(f[1,:])\n",
    "        times_np.append(time.time()-t0)\n",
    "    fig, ax1 = plt.subplots(1,1, figsize=(7,7))\n",
    "    ax1.loglog(Ns,times_dft)\n",
    "    ax1.loglog(Ns,times_fft)\n",
    "    ax1.loglog(Ns, times_np)\n",
    "    ax1.legend([\"DFT\",\"FFT\", \"np.fft.fft\"])\n",
    "    ax1.set_title(\"Complexity\")\n",
    "    plt.show()"
   ]
  },
  {
   "cell_type": "code",
   "execution_count": null,
   "metadata": {
    "scrolled": false
   },
   "outputs": [],
   "source": [
    "experiment0_1D()"
   ]
  },
  {
   "cell_type": "markdown",
   "metadata": {},
   "source": [
    "## Transformada de Fourier en 2D\n",
    "Como la integral y la sumatoria son operadores lineales, se puede calcular la transformada de fourier para dimensiones mayores utilizando la transformada en 1D.\n",
    "\n",
    "$${\\displaystyle \\begin{align}\n",
    "X_{u,v}&=\\sum_{m = 0}^{M-1}\\sum _{n=0}^{N-1}x_{m,n}\\cdot e^{-\\frac{i2\\pi un}{N} - \\frac{i2\\pi vm}{M}}\\\\\n",
    "       &= \\sum_{m = 0}^{M-1}\\left(\\sum _{n=0}^{N-1}x_{m,n}\\cdot e^{-\\frac{i2\\pi un}{N}}\\right) e^{- \\frac{i2\\pi vm}{M}}\\\\\n",
    "       &=  \\sum_{m = 0}^{M-1} X_{m,u}e^{- \\frac{i2\\pi vm}{M}}\n",
    "\\end{align}}$$\n",
    "\n",
    "Por lo que calcular la transformada de Fourier en 2D se puede realizar utilizando la FFT en una dimensión y luego en la otra. "
   ]
  },
  {
   "cell_type": "code",
   "execution_count": null,
   "metadata": {
    "collapsed": true
   },
   "outputs": [],
   "source": [
    "def DFT2(fnList):\n",
    "    fnList = fnList.astype('complex')\n",
    "    n_x,n_y = fnList.shape\n",
    "    \n",
    "    for x in range(n_x):\n",
    "        fnList[x,:] = DFT(fnList[x,:])\n",
    "    \n",
    "    for y in range(n_y):\n",
    "        fnList[:,y] = DFT(fnList[:,y])\n",
    "        \n",
    "    return fnList\n",
    "\n",
    "def iDFT2(FmList):\n",
    "    FmList = FmList.astype('complex')\n",
    "    n_x,n_y = FmList.shape\n",
    "    \n",
    "    for y in range(n_y):\n",
    "        FmList[:,y] = iDFT(FmList[:,y])    \n",
    "    \n",
    "    for x in range(n_x):\n",
    "        FmList[x,:] = iDFT(FmList[x,:])\n",
    "    return FmList"
   ]
  },
  {
   "cell_type": "code",
   "execution_count": null,
   "metadata": {
    "collapsed": true
   },
   "outputs": [],
   "source": [
    "def fft2(x):\n",
    "    x = x.astype('complex')\n",
    "    n_x,n_y = x.shape\n",
    "    \n",
    "    for i in range(n_x):\n",
    "        x[i,:] = fft(x[i,:])\n",
    "    \n",
    "    for j in range(n_y):\n",
    "        x[:,j] = fft(x[:,j])\n",
    "    \n",
    "    return x\n",
    "\n",
    "\n",
    "def ifft2(x):\n",
    "    x = x.astype('complex')\n",
    "    n_x, n_y = x.shape\n",
    "\n",
    "    for j in range(n_y):\n",
    "        x[:,j] = ifft(x[:,j])    \n",
    "    \n",
    "    for i in range(n_x):\n",
    "        x[i,:] = ifft(x[i,:])\n",
    "        \n",
    "    return x"
   ]
  },
  {
   "cell_type": "code",
   "execution_count": null,
   "metadata": {
    "collapsed": true
   },
   "outputs": [],
   "source": [
    "def experiment0_2D():\n",
    "    Ns = [16,32,64,128]\n",
    "    errors = []\n",
    "    times_dft = []\n",
    "    times_fft = []\n",
    "    times_np = []\n",
    "    for N in Ns:\n",
    "        f = create_right(N)\n",
    "        x = create_solution(N)\n",
    "        t0 = time.time()\n",
    "        x_approx = DFT2(f)\n",
    "        times_dft.append(time.time()-t0)\n",
    "        t0 = time.time()\n",
    "        x_approx = fft2(f)\n",
    "        times_fft.append(time.time()-t0)\n",
    "        t0 = time.time()\n",
    "        x_np = np.fft.fft2(f)\n",
    "        times_np.append(time.time()-t0)\n",
    "    fig, ax1 = plt.subplots(1,1, figsize=(7,7))\n",
    "    ax1.loglog(Ns,times_dft)\n",
    "    ax1.loglog(Ns,times_fft)\n",
    "    ax1.loglog(Ns,times_np)\n",
    "    ax1.legend([\"DFT\",\"FFT\",\"np.fft.fft2\"])\n",
    "    ax1.set_title(\"Complexity\")\n",
    "    plt.show()"
   ]
  },
  {
   "cell_type": "code",
   "execution_count": null,
   "metadata": {},
   "outputs": [],
   "source": [
    "experiment0_2D()"
   ]
  },
  {
   "cell_type": "markdown",
   "metadata": {},
   "source": [
    "## Problema\n",
    "Tenemos el BVP \n",
    "$$ \\frac{\\partial^2 \\phi}{\\partial x^2}+ \\frac{\\partial^2 \\phi}{\\partial x^2}=\\frac{1}{\\pi^2}\n",
    "\\left[\n",
    "30 \\left(\\left(\\frac{x}{\\pi}\\right)^2 -\\frac{x}{\\pi} \\right)\n",
    "+ 30\\left(\\left(\\frac{y}{\\pi}\\right)^2 -\\frac{y}{\\pi} \\right) \n",
    "- 4 \\pi^2 \\left( \\frac{x}{\\pi} sin(2y) \\right)\n",
    "\\right] = f(x,y)$$\n",
    "en el cuadrado $0 < x,y < \\pi$ donde $\\phi(0,y) = \\phi(\\pi,y) = \\phi(x,0) = \\phi(x,\\pi) = 0$\n",
    "\n",
    "Como los bordes de nuestra ecuación son igual a 0, se puede utilizar la transformada de fourier de seno para obtener los coeficientes"
   ]
  },
  {
   "cell_type": "code",
   "execution_count": null,
   "metadata": {
    "collapsed": true
   },
   "outputs": [],
   "source": [
    "def L2_error(f, f_exact):\n",
    "    return np.sqrt(np.sum((f-f_exact)**2)/np.sum(f_exact**2))"
   ]
  },
  {
   "cell_type": "code",
   "execution_count": null,
   "metadata": {
    "collapsed": true
   },
   "outputs": [],
   "source": [
    "def dst2(f):\n",
    "    F = sfft.dst(f,axis=0)\n",
    "    F = sfft.dst(F,axis=1)\n",
    "    return F\n",
    "\n",
    "def idst2(F):\n",
    "    f = sfft.idst(F,axis=1)\n",
    "    f = sfft.idst(f,axis=0)\n",
    "    N,M = f.shape\n",
    "    return f/(4*N*M)"
   ]
  },
  {
   "cell_type": "markdown",
   "metadata": {},
   "source": [
    "## Método espectral\n",
    "Dada las propiedades de la transformada de fourier al utilizarlo en nuestro problema tenemos\n",
    "$$ \\begin{align}\n",
    "-u^2 \\Phi(u,v) - v^2 \\Phi(u,v) &= F(u,v) \\\\\n",
    "\\Phi(u,v) &= \\frac{- F(u,v)}{(u^2 + v^2)}\n",
    "\\end{align}$$\n",
    "Donde $\\Phi(u,v)$ y $F(u,v)$ son las funciones $\\phi$ y $f$ luego de aplicar la Transformada de Fourier (de seno), luego de aplicar la transformada de seno calculamos la Transformada de Fourier inversa (de seno) para obtener $\\phi(x,y)$"
   ]
  },
  {
   "cell_type": "code",
   "execution_count": null,
   "metadata": {},
   "outputs": [],
   "source": [
    "@jit\n",
    "def solve_BVP_spectral(f):\n",
    "    F = dst2(f[1:,1:])\n",
    "    U = np.zeros_like(f)\n",
    "    N,M = U.shape\n",
    "    for i in range(N):\n",
    "        for j in range(M):\n",
    "            if i != 0 or j !=0:\n",
    "                U[i+1,j+1] = -F[i+1,j+1]/(np.pi*((i+1)**2+(j+1)**2))\n",
    "    return idst2(U)"
   ]
  },
  {
   "cell_type": "code",
   "execution_count": null,
   "metadata": {
    "scrolled": true
   },
   "outputs": [],
   "source": [
    "N = 128\n",
    "f = create_right(N)\n",
    "x = create_solution(N)\n",
    "fig,(ax1,ax2,ax3) = plt.subplots(1,3,figsize=(10,7))\n",
    "ax1.imshow(x)\n",
    "ax1.set_title(\"Exact Solution\")\n",
    "ax2.imshow(solve_BVP_spectral(f))\n",
    "ax2.set_title(\"Spectral Approximation\")\n",
    "err = f - solve_BVP_spectral(f)\n",
    "ax3.imshow(err)\n",
    "ax3.set_title(r\"$|Error|$  min:\" + str(err.min().round(2))+\", max:\" +str(err.max().round(2)))\n",
    "plt.show()\n",
    "L2_error(x,solve_BVP_spectral(f))"
   ]
  },
  {
   "cell_type": "code",
   "execution_count": null,
   "metadata": {
    "collapsed": true
   },
   "outputs": [],
   "source": [
    "def experiment1(function=solve_BVP_spectral):\n",
    "    Ns = [16,32,64,128,256]\n",
    "    errors = []\n",
    "    times = []\n",
    "    for N in Ns:\n",
    "        f = create_right(N)\n",
    "        x = create_solution(N)\n",
    "        t0 = time.time()\n",
    "        x_approx = function(f)\n",
    "        times.append(time.time()-t0)\n",
    "        errors.append(L2_error(x_approx,x))\n",
    "    fig, (ax1,ax2) = plt.subplots(1,2, figsize=(20,7))\n",
    "    ax1.loglog(Ns,errors)\n",
    "    ax1.set_title(\"Convergence\")\n",
    "    ax2.loglog(Ns,times)\n",
    "    ax2.set_title(\"Complexity\")\n",
    "    plt.show()\n",
    "    return errors, times"
   ]
  },
  {
   "cell_type": "code",
   "execution_count": null,
   "metadata": {},
   "outputs": [],
   "source": [
    "s_err, s_times = experiment1()"
   ]
  },
  {
   "cell_type": "markdown",
   "metadata": {},
   "source": [
    "## Diferencias Finitas Aceleradas (2D)\n",
    "Como hemos visto una derivada puede ser aproximada utilizando Diferencias Finitas, en este caso buscaremos acelerarlas con FFT para obtener un mejor resultado en una grilla más gruesa.\n",
    "\n",
    "Sea\n",
    "$$ \\phi_{xx} = \\frac{\\phi_{i-1,j} - 2 \\phi_{i,j} + \\phi_{i+1,j}}{h^2} , \\phi_{yy} = \\frac{\\phi_{i,j-1} - 2 \\phi_{i,j} + \\phi_{i,j+1}}{h^2}$$\n",
    "\n",
    "La ecuación puede ser aproximada de la forma\n",
    "$$  (\\phi_{i-1,j} + \\phi_{i+1,j})+(\\phi_{i,j-1} + \\phi_{i,j+1}) - 4 \\phi_{i,j}  = h^2f_{i,j}$$\n",
    "Si utilizamos DST (Discrete Sine Transform)\n",
    "$$  (\\Phi_{u-1,v} + \\Phi_{u+1,v})+(\\Phi_{u,v-1} + \\Phi_{u,v+1}) - 4 \\Phi_{u,v}  = h^2F_{u,v}$$\n",
    "\n",
    "Una de las propiedades de la transformada de fourier del seno\n",
    "$$(\\Phi_{u-a,v} + \\Phi_{u+a,v}) = 2 cos(au) \\Phi_{u,v}$$\n",
    "\n",
    "Por lo que nuestra ecuación se puede escribir con respecto a $\\Phi_{u,v}$\n",
    "$$ \\Phi_{u,v} \\left(  2 cos(u) \\Phi_{u,v} +  2 cos(v) \\Phi_{u,v} - 4 \\right) = h^2 F_{u,v}$$\n",
    "\n",
    "Despejando $\\Phi_{u,v}$\n",
    "$$ \\Phi_{u,v} = \\frac{h^2 F_{u,v}}{ 2 cos(u) \\Phi_{u,v} +  2 cos(v) \\Phi_{u,v} - 4 } $$\n",
    "Con $u = \\frac{2 \\pi}{N}i , v = \\frac{2 \\pi}{M}j$"
   ]
  },
  {
   "cell_type": "code",
   "execution_count": 27,
   "metadata": {
    "collapsed": true
   },
   "outputs": [],
   "source": [
    "@jit\n",
    "def solve_BVP_diff2(f):\n",
    "    N,_ = f.shape\n",
    "    F = dst2(f)\n",
    "    U = np.zeros_like(F)\n",
    "    h = np.pi/N\n",
    "    for i in range(N):\n",
    "        for j in range(N):\n",
    "            if (2 * np.cos(i*np.pi/N) + 2 * np.cos(j*np.pi/N) - 4 ) != 0:\n",
    "                U[i,j] = h**2*F[i,j]/(2 * np.cos(i*np.pi/N) +2 * np.cos(j*np.pi/N) - 4 )\n",
    "    return idst2(U)"
   ]
  },
  {
   "cell_type": "code",
   "execution_count": 28,
   "metadata": {},
   "outputs": [
    {
     "data": {
      "image/png": "[encoded data removed]",
      "text/plain": [
       "<matplotlib.figure.Figure at 0x7fcfc61099d0>"
      ]
     },
     "metadata": {},
     "output_type": "display_data"
    }
   ],
   "source": [
    "N = 128\n",
    "f = create_right(N)\n",
    "x = create_solution(N)\n",
    "fig,(ax1,ax2,ax3) = plt.subplots(1,3,figsize=(10,7))\n",
    "ax1.imshow(x)\n",
    "ax1.set_title(\"Exact Solution\")\n",
    "ax2.imshow(solve_BVP_diff2(f))\n",
    "ax2.set_title(\"Spectral Approximation\")\n",
    "err = np.abs(f - solve_BVP_diff2(f))\n",
    "ax3.imshow(err)\n",
    "ax3.set_title(r\"$|Error|$  min:\" + str(err.min().round(2))+\", max:\" +str(err.max().round(2)))\n",
    "plt.show()"
   ]
  },
  {
   "cell_type": "code",
   "execution_count": 29,
   "metadata": {},
   "outputs": [
    {
     "ename": "NameError",
     "evalue": "name 'experiment1' is not defined",
     "output_type": "error",
     "traceback": [
      "\u001b[1;31m---------------------------------------------------------------------------\u001b[0m",
      "\u001b[1;31mNameError\u001b[0m                                 Traceback (most recent call last)",
      "\u001b[1;32m<ipython-input-29-69a740968fd4>\u001b[0m in \u001b[0;36m<module>\u001b[1;34m()\u001b[0m\n\u001b[1;32m----> 1\u001b[1;33m \u001b[0mdiff_err\u001b[0m\u001b[1;33m,\u001b[0m \u001b[0mdiff_times\u001b[0m\u001b[1;33m=\u001b[0m\u001b[0mexperiment1\u001b[0m\u001b[1;33m(\u001b[0m\u001b[0msolve_BVP_diff2\u001b[0m\u001b[1;33m)\u001b[0m\u001b[1;33m\u001b[0m\u001b[0m\n\u001b[0m",
      "\u001b[1;31mNameError\u001b[0m: name 'experiment1' is not defined"
     ]
    }
   ],
   "source": [
    "diff_err, diff_times=experiment1(solve_BVP_diff2)"
   ]
  },
  {
   "cell_type": "code",
   "execution_count": 30,
   "metadata": {},
   "outputs": [
    {
     "ename": "NameError",
     "evalue": "name 's_err' is not defined",
     "output_type": "error",
     "traceback": [
      "\u001b[1;31m---------------------------------------------------------------------------\u001b[0m",
      "\u001b[1;31mNameError\u001b[0m                                 Traceback (most recent call last)",
      "\u001b[1;32m<ipython-input-30-fdf46b6e41db>\u001b[0m in \u001b[0;36m<module>\u001b[1;34m()\u001b[0m\n\u001b[0;32m      1\u001b[0m \u001b[0mNs\u001b[0m \u001b[1;33m=\u001b[0m \u001b[1;33m[\u001b[0m\u001b[1;36m16\u001b[0m\u001b[1;33m,\u001b[0m\u001b[1;36m32\u001b[0m\u001b[1;33m,\u001b[0m\u001b[1;36m64\u001b[0m\u001b[1;33m,\u001b[0m\u001b[1;36m128\u001b[0m\u001b[1;33m,\u001b[0m\u001b[1;36m256\u001b[0m\u001b[1;33m]\u001b[0m\u001b[1;33m\u001b[0m\u001b[0m\n\u001b[1;32m----> 2\u001b[1;33m \u001b[0mplt\u001b[0m\u001b[1;33m.\u001b[0m\u001b[0mloglog\u001b[0m\u001b[1;33m(\u001b[0m\u001b[0mNs\u001b[0m\u001b[1;33m,\u001b[0m\u001b[0ms_err\u001b[0m\u001b[1;33m)\u001b[0m\u001b[1;33m\u001b[0m\u001b[0m\n\u001b[0m\u001b[0;32m      3\u001b[0m \u001b[0mplt\u001b[0m\u001b[1;33m.\u001b[0m\u001b[0mloglog\u001b[0m\u001b[1;33m(\u001b[0m\u001b[0mNs\u001b[0m\u001b[1;33m,\u001b[0m\u001b[0mdiff_err\u001b[0m\u001b[1;33m)\u001b[0m\u001b[1;33m\u001b[0m\u001b[0m\n\u001b[0;32m      4\u001b[0m \u001b[0mplt\u001b[0m\u001b[1;33m.\u001b[0m\u001b[0mlegend\u001b[0m\u001b[1;33m(\u001b[0m\u001b[1;33m[\u001b[0m\u001b[1;34m\"Spectral\"\u001b[0m\u001b[1;33m,\u001b[0m \u001b[1;34m\"Diff\"\u001b[0m\u001b[1;33m]\u001b[0m\u001b[1;33m)\u001b[0m\u001b[1;33m\u001b[0m\u001b[0m\n\u001b[0;32m      5\u001b[0m \u001b[0mplt\u001b[0m\u001b[1;33m.\u001b[0m\u001b[0mshow\u001b[0m\u001b[1;33m(\u001b[0m\u001b[1;33m)\u001b[0m\u001b[1;33m\u001b[0m\u001b[0m\n",
      "\u001b[1;31mNameError\u001b[0m: name 's_err' is not defined"
     ]
    }
   ],
   "source": [
    "Ns = [16,32,64,128,256]\n",
    "plt.loglog(Ns,s_err)\n",
    "plt.loglog(Ns,diff_err)\n",
    "plt.legend([\"Spectral\", \"Diff\"])\n",
    "plt.show()"
   ]
  },
  {
   "cell_type": "code",
   "execution_count": 31,
   "metadata": {},
   "outputs": [
    {
     "ename": "NameError",
     "evalue": "name 's_times' is not defined",
     "output_type": "error",
     "traceback": [
      "\u001b[1;31m---------------------------------------------------------------------------\u001b[0m",
      "\u001b[1;31mNameError\u001b[0m                                 Traceback (most recent call last)",
      "\u001b[1;32m<ipython-input-31-3c40fbffc988>\u001b[0m in \u001b[0;36m<module>\u001b[1;34m()\u001b[0m\n\u001b[1;32m----> 1\u001b[1;33m \u001b[0mplt\u001b[0m\u001b[1;33m.\u001b[0m\u001b[0mloglog\u001b[0m\u001b[1;33m(\u001b[0m\u001b[0mNs\u001b[0m\u001b[1;33m,\u001b[0m\u001b[0ms_times\u001b[0m\u001b[1;33m)\u001b[0m\u001b[1;33m\u001b[0m\u001b[0m\n\u001b[0m\u001b[0;32m      2\u001b[0m \u001b[0mplt\u001b[0m\u001b[1;33m.\u001b[0m\u001b[0mloglog\u001b[0m\u001b[1;33m(\u001b[0m\u001b[0mNs\u001b[0m\u001b[1;33m,\u001b[0m\u001b[0mdiff_times\u001b[0m\u001b[1;33m)\u001b[0m\u001b[1;33m\u001b[0m\u001b[0m\n\u001b[0;32m      3\u001b[0m \u001b[0mplt\u001b[0m\u001b[1;33m.\u001b[0m\u001b[0mlegend\u001b[0m\u001b[1;33m(\u001b[0m\u001b[1;33m[\u001b[0m\u001b[1;34m\"Spectral\"\u001b[0m\u001b[1;33m,\u001b[0m \u001b[1;34m\"Diff\"\u001b[0m\u001b[1;33m]\u001b[0m\u001b[1;33m)\u001b[0m\u001b[1;33m\u001b[0m\u001b[0m\n\u001b[0;32m      4\u001b[0m \u001b[0mplt\u001b[0m\u001b[1;33m.\u001b[0m\u001b[0mshow\u001b[0m\u001b[1;33m(\u001b[0m\u001b[1;33m)\u001b[0m\u001b[1;33m\u001b[0m\u001b[0m\n",
      "\u001b[1;31mNameError\u001b[0m: name 's_times' is not defined"
     ]
    }
   ],
   "source": [
    "plt.loglog(Ns,s_times)\n",
    "plt.loglog(Ns,diff_times)\n",
    "plt.legend([\"Spectral\", \"Diff\"])\n",
    "plt.show()"
   ]
  },
  {
   "cell_type": "code",
   "execution_count": null,
   "metadata": {
    "collapsed": true
   },
   "outputs": [],
   "source": []
  },
  {
   "cell_type": "code",
   "execution_count": null,
   "metadata": {
    "collapsed": true
   },
   "outputs": [],
   "source": []
  }
 ],
 "metadata": {
  "anaconda-cloud": {},
  "kernelspec": {
   "display_name": "Python 2",
   "language": "python",
   "name": "python2"
  },
  "language_info": {
   "codemirror_mode": {
    "name": "ipython",
    "version": 2
   },
   "file_extension": ".py",
   "mimetype": "text/x-python",
   "name": "python",
   "nbconvert_exporter": "python",
   "pygments_lexer": "ipython2",
   "version": "2.7.12"
  }
 },
 "nbformat": 4,
 "nbformat_minor": 2
}
